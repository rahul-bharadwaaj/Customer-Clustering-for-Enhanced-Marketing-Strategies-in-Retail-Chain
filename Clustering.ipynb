{
 "cells": [
  {
   "cell_type": "code",
   "execution_count": 32,
   "id": "bf64ea9e",
   "metadata": {
    "scrolled": true
   },
   "outputs": [],
   "source": [
    "import pandas as pd\n",
    "import mysql.connector\n",
    "import pymysql\n",
    "from sqlalchemy import create_engine\n",
    "from sklearn.preprocessing import StandardScaler\n",
    "from sklearn.cluster import KMeans\n",
    "import matplotlib.pyplot as plt"
   ]
  },
  {
   "cell_type": "code",
   "execution_count": 19,
   "id": "ac80686e",
   "metadata": {},
   "outputs": [],
   "source": [
    "credentials = pd.read_csv('db_credentials.csv')"
   ]
  },
  {
   "cell_type": "code",
   "execution_count": 20,
   "id": "6329f004",
   "metadata": {},
   "outputs": [],
   "source": [
    "# Extract credentials\n",
    "db_config = {\n",
    "    'host': credentials.loc[0, 'host'],\n",
    "    'user': credentials.loc[0, 'user'],\n",
    "    'password': credentials.loc[0, 'password'],\n",
    "    'database': credentials.loc[0, 'database'],\n",
    "    'port': int(credentials.loc[0, 'port'])\n",
    "}"
   ]
  },
  {
   "cell_type": "code",
   "execution_count": 21,
   "id": "0ab28506",
   "metadata": {},
   "outputs": [],
   "source": [
    "# Creating a SQLAlchemy engine\n",
    "engine = create_engine(f\"mysql+pymysql://{db_config['user']}:{db_config['password']}@{db_config['host']}:{db_config['port']}/{db_config['database']}\")"
   ]
  },
  {
   "cell_type": "code",
   "execution_count": 28,
   "id": "163ffc70",
   "metadata": {},
   "outputs": [
    {
     "data": {
      "text/html": [
       "<div>\n",
       "<style scoped>\n",
       "    .dataframe tbody tr th:only-of-type {\n",
       "        vertical-align: middle;\n",
       "    }\n",
       "\n",
       "    .dataframe tbody tr th {\n",
       "        vertical-align: top;\n",
       "    }\n",
       "\n",
       "    .dataframe thead th {\n",
       "        text-align: right;\n",
       "    }\n",
       "</style>\n",
       "<table border=\"1\" class=\"dataframe\">\n",
       "  <thead>\n",
       "    <tr style=\"text-align: right;\">\n",
       "      <th></th>\n",
       "      <th>CustomerID</th>\n",
       "      <th>recency</th>\n",
       "      <th>frequency</th>\n",
       "      <th>monetary</th>\n",
       "    </tr>\n",
       "  </thead>\n",
       "  <tbody>\n",
       "    <tr>\n",
       "      <th>0</th>\n",
       "      <td>15</td>\n",
       "      <td>1286</td>\n",
       "      <td>142</td>\n",
       "      <td>1.512726e+06</td>\n",
       "    </tr>\n",
       "    <tr>\n",
       "      <th>1</th>\n",
       "      <td>20</td>\n",
       "      <td>1291</td>\n",
       "      <td>167</td>\n",
       "      <td>1.523888e+06</td>\n",
       "    </tr>\n",
       "    <tr>\n",
       "      <th>2</th>\n",
       "      <td>16</td>\n",
       "      <td>1285</td>\n",
       "      <td>135</td>\n",
       "      <td>1.547774e+06</td>\n",
       "    </tr>\n",
       "    <tr>\n",
       "      <th>3</th>\n",
       "      <td>48</td>\n",
       "      <td>1292</td>\n",
       "      <td>172</td>\n",
       "      <td>1.670109e+06</td>\n",
       "    </tr>\n",
       "    <tr>\n",
       "      <th>4</th>\n",
       "      <td>49</td>\n",
       "      <td>1289</td>\n",
       "      <td>152</td>\n",
       "      <td>1.503467e+06</td>\n",
       "    </tr>\n",
       "  </tbody>\n",
       "</table>\n",
       "</div>"
      ],
      "text/plain": [
       "   CustomerID  recency  frequency      monetary\n",
       "0          15     1286        142  1.512726e+06\n",
       "1          20     1291        167  1.523888e+06\n",
       "2          16     1285        135  1.547774e+06\n",
       "3          48     1292        172  1.670109e+06\n",
       "4          49     1289        152  1.503467e+06"
      ]
     },
     "execution_count": 28,
     "metadata": {},
     "output_type": "execute_result"
    }
   ],
   "source": [
    "query = \"SELECT * FROM rfm_analysis\"\n",
    "rfm_df = pd.read_sql(query, engine)\n",
    "rfm_df.head()"
   ]
  },
  {
   "cell_type": "markdown",
   "id": "85a4250b",
   "metadata": {},
   "source": [
    "#### Standardizing RFM Values"
   ]
  },
  {
   "cell_type": "code",
   "execution_count": 31,
   "id": "da7b0cc0",
   "metadata": {},
   "outputs": [
    {
     "data": {
      "text/html": [
       "<div>\n",
       "<style scoped>\n",
       "    .dataframe tbody tr th:only-of-type {\n",
       "        vertical-align: middle;\n",
       "    }\n",
       "\n",
       "    .dataframe tbody tr th {\n",
       "        vertical-align: top;\n",
       "    }\n",
       "\n",
       "    .dataframe thead th {\n",
       "        text-align: right;\n",
       "    }\n",
       "</style>\n",
       "<table border=\"1\" class=\"dataframe\">\n",
       "  <thead>\n",
       "    <tr style=\"text-align: right;\">\n",
       "      <th></th>\n",
       "      <th>Recency</th>\n",
       "      <th>Frequency</th>\n",
       "      <th>Monetary</th>\n",
       "    </tr>\n",
       "  </thead>\n",
       "  <tbody>\n",
       "    <tr>\n",
       "      <th>0</th>\n",
       "      <td>-0.580378</td>\n",
       "      <td>-1.264920</td>\n",
       "      <td>-0.710687</td>\n",
       "    </tr>\n",
       "    <tr>\n",
       "      <th>1</th>\n",
       "      <td>0.355715</td>\n",
       "      <td>0.509659</td>\n",
       "      <td>-0.654477</td>\n",
       "    </tr>\n",
       "    <tr>\n",
       "      <th>2</th>\n",
       "      <td>-0.767596</td>\n",
       "      <td>-1.761801</td>\n",
       "      <td>-0.534196</td>\n",
       "    </tr>\n",
       "    <tr>\n",
       "      <th>3</th>\n",
       "      <td>0.542934</td>\n",
       "      <td>0.864575</td>\n",
       "      <td>0.081853</td>\n",
       "    </tr>\n",
       "    <tr>\n",
       "      <th>4</th>\n",
       "      <td>-0.018722</td>\n",
       "      <td>-0.555088</td>\n",
       "      <td>-0.757315</td>\n",
       "    </tr>\n",
       "  </tbody>\n",
       "</table>\n",
       "</div>"
      ],
      "text/plain": [
       "    Recency  Frequency  Monetary\n",
       "0 -0.580378  -1.264920 -0.710687\n",
       "1  0.355715   0.509659 -0.654477\n",
       "2 -0.767596  -1.761801 -0.534196\n",
       "3  0.542934   0.864575  0.081853\n",
       "4 -0.018722  -0.555088 -0.757315"
      ]
     },
     "execution_count": 31,
     "metadata": {},
     "output_type": "execute_result"
    }
   ],
   "source": [
    "scaler = StandardScaler()\n",
    "rfm_scaled = scaler.fit_transform(rfm_df[['recency', 'frequency', 'monetary']])\n",
    "rfm_scaled_df = pd.DataFrame(rfm_scaled, columns=['Recency', 'Frequency', 'Monetary'])\n",
    "rfm_scaled_df.head()"
   ]
  },
  {
   "cell_type": "markdown",
   "id": "f4d93d84",
   "metadata": {},
   "source": [
    "#### Determining the Optimal Number of Clusters Using the Elbow Method"
   ]
  },
  {
   "cell_type": "code",
   "execution_count": 33,
   "id": "dc83ca8e",
   "metadata": {},
   "outputs": [
    {
     "name": "stderr",
     "output_type": "stream",
     "text": [
      "C:\\Users\\Dell\\anaconda3\\lib\\site-packages\\sklearn\\cluster\\_kmeans.py:1036: UserWarning: KMeans is known to have a memory leak on Windows with MKL, when there are less chunks than available threads. You can avoid it by setting the environment variable OMP_NUM_THREADS=1.\n",
      "  warnings.warn(\n"
     ]
    }
   ],
   "source": [
    "sse = []\n",
    "k_range = range(1, 11)\n",
    "for k in k_range:\n",
    "    kmeans = KMeans(n_clusters=k, random_state=42)\n",
    "    kmeans.fit(rfm_scaled_df)\n",
    "    sse.append(kmeans.inertia_)"
   ]
  },
  {
   "cell_type": "code",
   "execution_count": 34,
   "id": "cacc62a8",
   "metadata": {},
   "outputs": [
    {
     "data": {
      "image/png": "[encoded data removed]",
      "text/plain": [
       "<Figure size 720x432 with 1 Axes>"
      ]
     },
     "metadata": {
      "needs_background": "light"
     },
     "output_type": "display_data"
    }
   ],
   "source": [
    "plt.figure(figsize=(10, 6))\n",
    "plt.plot(k_range, sse, marker='o')\n",
    "plt.xlabel('Number of clusters')\n",
    "plt.ylabel('SSE')\n",
    "plt.title('Elbow Method')\n",
    "plt.show()"
   ]
  },
  {
   "cell_type": "markdown",
   "id": "b3d6c75d",
   "metadata": {},
   "source": [
    "#### Clustering using K-means"
   ]
  },
  {
   "cell_type": "code",
   "execution_count": 35,
   "id": "72f109c4",
   "metadata": {},
   "outputs": [
    {
     "data": {
      "text/html": [
       "<div>\n",
       "<style scoped>\n",
       "    .dataframe tbody tr th:only-of-type {\n",
       "        vertical-align: middle;\n",
       "    }\n",
       "\n",
       "    .dataframe tbody tr th {\n",
       "        vertical-align: top;\n",
       "    }\n",
       "\n",
       "    .dataframe thead th {\n",
       "        text-align: right;\n",
       "    }\n",
       "</style>\n",
       "<table border=\"1\" class=\"dataframe\">\n",
       "  <thead>\n",
       "    <tr style=\"text-align: right;\">\n",
       "      <th></th>\n",
       "      <th>CustomerID</th>\n",
       "      <th>recency</th>\n",
       "      <th>frequency</th>\n",
       "      <th>monetary</th>\n",
       "      <th>Cluster</th>\n",
       "    </tr>\n",
       "  </thead>\n",
       "  <tbody>\n",
       "    <tr>\n",
       "      <th>0</th>\n",
       "      <td>15</td>\n",
       "      <td>1286</td>\n",
       "      <td>142</td>\n",
       "      <td>1.512726e+06</td>\n",
       "      <td>0</td>\n",
       "    </tr>\n",
       "    <tr>\n",
       "      <th>1</th>\n",
       "      <td>20</td>\n",
       "      <td>1291</td>\n",
       "      <td>167</td>\n",
       "      <td>1.523888e+06</td>\n",
       "      <td>1</td>\n",
       "    </tr>\n",
       "    <tr>\n",
       "      <th>2</th>\n",
       "      <td>16</td>\n",
       "      <td>1285</td>\n",
       "      <td>135</td>\n",
       "      <td>1.547774e+06</td>\n",
       "      <td>0</td>\n",
       "    </tr>\n",
       "    <tr>\n",
       "      <th>3</th>\n",
       "      <td>48</td>\n",
       "      <td>1292</td>\n",
       "      <td>172</td>\n",
       "      <td>1.670109e+06</td>\n",
       "      <td>1</td>\n",
       "    </tr>\n",
       "    <tr>\n",
       "      <th>4</th>\n",
       "      <td>49</td>\n",
       "      <td>1289</td>\n",
       "      <td>152</td>\n",
       "      <td>1.503467e+06</td>\n",
       "      <td>0</td>\n",
       "    </tr>\n",
       "  </tbody>\n",
       "</table>\n",
       "</div>"
      ],
      "text/plain": [
       "   CustomerID  recency  frequency      monetary  Cluster\n",
       "0          15     1286        142  1.512726e+06        0\n",
       "1          20     1291        167  1.523888e+06        1\n",
       "2          16     1285        135  1.547774e+06        0\n",
       "3          48     1292        172  1.670109e+06        1\n",
       "4          49     1289        152  1.503467e+06        0"
      ]
     },
     "execution_count": 35,
     "metadata": {},
     "output_type": "execute_result"
    }
   ],
   "source": [
    "optimal_clusters = 4\n",
    "kmeans = KMeans(n_clusters=optimal_clusters, random_state=42)\n",
    "\n",
    "rfm_df['Cluster'] = kmeans.fit_predict(rfm_scaled_df)\n",
    "\n",
    "rfm_df.head()"
   ]
  },
  {
   "cell_type": "markdown",
   "id": "fe76bb63",
   "metadata": {},
   "source": [
    "#### Analyzing Cluster Characteristics"
   ]
  },
  {
   "cell_type": "code",
   "execution_count": 37,
   "id": "915cca88",
   "metadata": {
    "scrolled": true
   },
   "outputs": [
    {
     "name": "stdout",
     "output_type": "stream",
     "text": [
      "   Cluster      recency   frequency      monetary  Customer Count\n",
      "0        0  1287.400000  149.880000  1.510802e+06              25\n",
      "1        1  1294.000000  165.000000  1.698425e+06               8\n",
      "2        2  1308.500000  155.000000  1.519597e+06               2\n",
      "3        3  1286.733333  174.266667  1.886406e+06              15\n"
     ]
    }
   ],
   "source": [
    "cluster_analysis = rfm_df.groupby('Cluster').agg({\n",
    "    'recency': 'mean',\n",
    "    'frequency': 'mean',\n",
    "    'monetary': 'mean',\n",
    "    'CustomerID': 'count'\n",
    "}).rename(columns={'CustomerID': 'Customer Count'}).reset_index()\n",
    "\n",
    "print(cluster_analysis)"
   ]
  },
  {
   "cell_type": "markdown",
   "id": "e8ee09c4",
   "metadata": {},
   "source": [
    "#### Writing the clustered data back to the database"
   ]
  },
  {
   "cell_type": "code",
   "execution_count": 38,
   "id": "91396086",
   "metadata": {},
   "outputs": [
    {
     "name": "stderr",
     "output_type": "stream",
     "text": [
      "Exception during reset or similar\n",
      "Traceback (most recent call last):\n",
      "  File \"C:\\Users\\Dell\\anaconda3\\lib\\site-packages\\pymysql\\connections.py\", line 782, in _read_bytes\n",
      "    data = self._rfile.read(num_bytes)\n",
      "  File \"C:\\Users\\Dell\\anaconda3\\lib\\socket.py\", line 704, in readinto\n",
      "    return self._sock.recv_into(b)\n",
      "ConnectionResetError: [WinError 10054] An existing connection was forcibly closed by the remote host\n",
      "\n",
      "During handling of the above exception, another exception occurred:\n",
      "\n",
      "Traceback (most recent call last):\n",
      "  File \"C:\\Users\\Dell\\anaconda3\\lib\\site-packages\\sqlalchemy\\pool\\base.py\", line 739, in _finalize_fairy\n",
      "    fairy._reset(pool)\n",
      "  File \"C:\\Users\\Dell\\anaconda3\\lib\\site-packages\\sqlalchemy\\pool\\base.py\", line 988, in _reset\n",
      "    pool._dialect.do_rollback(self)\n",
      "  File \"C:\\Users\\Dell\\anaconda3\\lib\\site-packages\\sqlalchemy\\engine\\default.py\", line 682, in do_rollback\n",
      "    dbapi_connection.rollback()\n",
      "  File \"C:\\Users\\Dell\\anaconda3\\lib\\site-packages\\pymysql\\connections.py\", line 493, in rollback\n",
      "    self._read_ok_packet()\n",
      "  File \"C:\\Users\\Dell\\anaconda3\\lib\\site-packages\\pymysql\\connections.py\", line 453, in _read_ok_packet\n",
      "    pkt = self._read_packet()\n",
      "  File \"C:\\Users\\Dell\\anaconda3\\lib\\site-packages\\pymysql\\connections.py\", line 744, in _read_packet\n",
      "    packet_header = self._read_bytes(4)\n",
      "  File \"C:\\Users\\Dell\\anaconda3\\lib\\site-packages\\pymysql\\connections.py\", line 788, in _read_bytes\n",
      "    raise err.OperationalError(\n",
      "pymysql.err.OperationalError: (2013, 'Lost connection to MySQL server during query ([WinError 10054] An existing connection was forcibly closed by the remote host)')\n"
     ]
    },
    {
     "name": "stdout",
     "output_type": "stream",
     "text": [
      "Clustered data has been written back to the database.\n"
     ]
    }
   ],
   "source": [
    "rfm_df.to_sql('rfm_clustered', engine, if_exists='replace', index=False)\n",
    "print(\"Clustered data has been written back to the database.\")"
   ]
  }
 ],
 "metadata": {
  "kernelspec": {
   "display_name": "Python 3 (ipykernel)",
   "language": "python",
   "name": "python3"
  },
  "language_info": {
   "codemirror_mode": {
    "name": "ipython",
    "version": 3
   },
   "file_extension": ".py",
   "mimetype": "text/x-python",
   "name": "python",
   "nbconvert_exporter": "python",
   "pygments_lexer": "ipython3",
   "version": "3.9.12"
  }
 },
 "nbformat": 4,
 "nbformat_minor": 5
}
